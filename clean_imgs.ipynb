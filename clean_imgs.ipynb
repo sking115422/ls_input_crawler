{
 "cells": [
  {
   "cell_type": "code",
   "execution_count": 1,
   "metadata": {},
   "outputs": [],
   "source": [
    "import imagehash\n",
    "from PIL import Image\n",
    "import os"
   ]
  },
  {
   "cell_type": "code",
   "execution_count": 2,
   "metadata": {},
   "outputs": [],
   "source": [
    "img_dir = \"./ss/\""
   ]
  },
  {
   "cell_type": "code",
   "execution_count": 3,
   "metadata": {},
   "outputs": [],
   "source": [
    "# Seting threshold for similarity\n",
    "threshold = 5"
   ]
  },
  {
   "cell_type": "code",
   "execution_count": 4,
   "metadata": {},
   "outputs": [],
   "source": [
    "img_list = os.listdir(img_dir)\n",
    "rem_list = []"
   ]
  },
  {
   "cell_type": "code",
   "execution_count": 5,
   "metadata": {},
   "outputs": [
    {
     "name": "stdout",
     "output_type": "stream",
     "text": [
      "0\n",
      "1\n",
      "2\n",
      "3\n",
      "4\n",
      "5\n",
      "6\n",
      "7\n",
      "8\n",
      "9\n",
      "10\n",
      "11\n",
      "12\n",
      "13\n",
      "14\n",
      "15\n",
      "16\n",
      "17\n",
      "18\n",
      "19\n",
      "20\n",
      "21\n",
      "22\n",
      "23\n",
      "24\n",
      "25\n",
      "26\n",
      "27\n",
      "28\n",
      "29\n",
      "30\n",
      "31\n",
      "32\n",
      "33\n",
      "34\n",
      "35\n",
      "36\n",
      "37\n",
      "38\n",
      "39\n",
      "40\n",
      "41\n",
      "42\n",
      "43\n",
      "44\n",
      "45\n",
      "46\n",
      "47\n",
      "48\n",
      "49\n",
      "50\n",
      "51\n",
      "52\n",
      "53\n",
      "54\n",
      "55\n",
      "56\n",
      "57\n",
      "58\n",
      "59\n",
      "60\n",
      "61\n",
      "62\n",
      "63\n",
      "64\n",
      "65\n",
      "66\n",
      "67\n",
      "68\n",
      "69\n",
      "70\n",
      "71\n",
      "72\n",
      "73\n",
      "74\n",
      "75\n",
      "76\n",
      "77\n",
      "78\n",
      "79\n",
      "80\n",
      "81\n",
      "82\n",
      "83\n",
      "84\n",
      "85\n",
      "86\n",
      "87\n",
      "88\n",
      "89\n",
      "90\n",
      "91\n",
      "92\n",
      "93\n"
     ]
    }
   ],
   "source": [
    "for i, img1 in enumerate(img_list):\n",
    "    \n",
    "    print(i)\n",
    "    \n",
    "    image1 = Image.open(img_dir+img1)\n",
    "    hash1 = imagehash.phash(image1)\n",
    "    \n",
    "    for j, img2 in enumerate(img_list):\n",
    "        \n",
    "        if i != j:\n",
    "            \n",
    "            image2 = Image.open(img_dir+img2)\n",
    "            hash2 = imagehash.phash(image2)\n",
    "\n",
    "            # Calculate Hamming distance\n",
    "            distance = abs(hash1 - hash2)\n",
    "\n",
    "            # Compare the images\n",
    "            if distance <= threshold:\n",
    "                rem_list.append(img_dir+img2)\n"
   ]
  },
  {
   "cell_type": "code",
   "execution_count": 6,
   "metadata": {},
   "outputs": [
    {
     "name": "stdout",
     "output_type": "stream",
     "text": [
      "['./ss/ss_150.png', './ss/ss_73.png', './ss/ss_82.png', './ss/ss_72.png', './ss/ss_166.png', './ss/ss_45.png', './ss/ss_105.png', './ss/ss_172.png', './ss/ss_8.png', './ss/ss_9.png', './ss/ss_104.png', './ss/ss_65.png', './ss/ss_130.png', './ss/ss_171.png', './ss/ss_95.png', './ss/ss_66.png', './ss/ss_130.png', './ss/ss_171.png', './ss/ss_95.png', './ss/ss_50.png', './ss/ss_82.png', './ss/ss_72.png', './ss/ss_50.png', './ss/ss_73.png', './ss/ss_72.png', './ss/ss_44.png', './ss/ss_15.png', './ss/ss_165.png', './ss/ss_40.png', './ss/ss_52.png', './ss/ss_168.png', './ss/ss_47.png', './ss/ss_133.png', './ss/ss_42.png', './ss/ss_108.png', './ss/ss_164.png', './ss/ss_50.png', './ss/ss_73.png', './ss/ss_82.png', './ss/ss_129.png', './ss/ss_140.png', './ss/ss_172.png', './ss/ss_140.png', './ss/ss_105.png', './ss/ss_5.png', './ss/ss_9.png', './ss/ss_66.png', './ss/ss_65.png', './ss/ss_171.png', './ss/ss_95.png', './ss/ss_157.png', './ss/ss_52.png', './ss/ss_168.png', './ss/ss_5.png', './ss/ss_8.png', './ss/ss_66.png', './ss/ss_65.png', './ss/ss_130.png', './ss/ss_95.png', './ss/ss_127.png', './ss/ss_164.png', './ss/ss_58.png', './ss/ss_157.png', './ss/ss_40.png', './ss/ss_168.png', './ss/ss_91.png', './ss/ss_43.png', './ss/ss_96.png', './ss/ss_143.png', './ss/ss_45.png', './ss/ss_149.png', './ss/ss_17.png', './ss/ss_143.png', './ss/ss_166.png', './ss/ss_127.png', './ss/ss_108.png', './ss/ss_157.png', './ss/ss_40.png', './ss/ss_52.png', './ss/ss_49.png', './ss/ss_87.png', './ss/ss_66.png', './ss/ss_65.png', './ss/ss_130.png', './ss/ss_171.png', './ss/ss_12.png']\n"
     ]
    }
   ],
   "source": [
    "print(rem_list)"
   ]
  },
  {
   "cell_type": "code",
   "execution_count": 7,
   "metadata": {},
   "outputs": [],
   "source": [
    "rem_list = list(set(rem_list))"
   ]
  },
  {
   "cell_type": "code",
   "execution_count": 8,
   "metadata": {},
   "outputs": [
    {
     "name": "stdout",
     "output_type": "stream",
     "text": [
      "['./ss/ss_166.png', './ss/ss_45.png', './ss/ss_171.png', './ss/ss_72.png', './ss/ss_5.png', './ss/ss_44.png', './ss/ss_91.png', './ss/ss_104.png', './ss/ss_96.png', './ss/ss_50.png', './ss/ss_168.png', './ss/ss_47.png', './ss/ss_8.png', './ss/ss_9.png', './ss/ss_12.png', './ss/ss_129.png', './ss/ss_143.png', './ss/ss_133.png', './ss/ss_66.png', './ss/ss_43.png', './ss/ss_42.png', './ss/ss_73.png', './ss/ss_150.png', './ss/ss_65.png', './ss/ss_52.png', './ss/ss_95.png', './ss/ss_58.png', './ss/ss_108.png', './ss/ss_15.png', './ss/ss_130.png', './ss/ss_49.png', './ss/ss_17.png', './ss/ss_149.png', './ss/ss_82.png', './ss/ss_164.png', './ss/ss_40.png', './ss/ss_165.png', './ss/ss_157.png', './ss/ss_172.png', './ss/ss_127.png', './ss/ss_87.png', './ss/ss_105.png', './ss/ss_140.png']\n"
     ]
    }
   ],
   "source": [
    "print(rem_list)"
   ]
  },
  {
   "cell_type": "code",
   "execution_count": 9,
   "metadata": {},
   "outputs": [],
   "source": [
    "for each in rem_list:\n",
    "    os.remove(each)"
   ]
  }
 ],
 "metadata": {
  "kernelspec": {
   "display_name": "base",
   "language": "python",
   "name": "python3"
  },
  "language_info": {
   "codemirror_mode": {
    "name": "ipython",
    "version": 3
   },
   "file_extension": ".py",
   "mimetype": "text/x-python",
   "name": "python",
   "nbconvert_exporter": "python",
   "pygments_lexer": "ipython3",
   "version": "3.11.4"
  },
  "orig_nbformat": 4
 },
 "nbformat": 4,
 "nbformat_minor": 2
}
